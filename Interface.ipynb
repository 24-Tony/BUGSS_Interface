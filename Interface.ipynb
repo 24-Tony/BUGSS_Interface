{
 "cells": [
  {
   "cell_type": "code",
   "execution_count": 1,
   "metadata": {
    "scrolled": true
   },
   "outputs": [],
   "source": [
    "import warnings\n",
    "warnings.filterwarnings('ignore')\n",
    "\n",
    "import ipywidgets as widgets\n",
    "from IPython.display import display, clear_output\n"
   ]
  },
  {
   "cell_type": "code",
   "execution_count": 2,
   "metadata": {},
   "outputs": [
    {
     "name": "stdout",
     "output_type": "stream",
     "text": [
     ]
    }
   ],
   "source": [
    "%pylab inline\n"
   ]
  },
  {
   "cell_type": "code",
   "execution_count": 3,
   "metadata": {},
   "outputs": [
    {
     "name": "stdout",
     "output_type": "stream",
     "text": [
     ]
    }
   ],
   "source": [
    "import matplotlib.pyplot as plt\n"
   ]
  },
{
   "cell_type": "code",
   "execution_count": 4,
   "metadata": {},
   "outputs": [
    {
     "name": "stdout",
     "output_type": "stream",
     "text": [
     ]
    }
   ],
   "source": [
    "import pandas as pd\n"
   ]
  },
 {
   "cell_type": "code",
   "execution_count": 5,
   "metadata": {},
   "outputs": [
    {
     "name": "stdout",
     "output_type": "stream",
     "text": [

     ]
    }
   ],
   "source": 
    "import seaborn as sns\n"
   ]
  },
  {
   "cell_type": "code",
   "execution_count": 2,
   "metadata": {},
   "outputs": [
    {
     "name": "stdout",
     "output_type": "stream",
     "text": [
     ]
    }
   ],
   "source": [
    "from PIL import Image\n"
   ]
  },
  {
   "cell_type": "code",
   "execution_count": 2,
   "metadata": {},
   "outputs": [
    {
     "name": "stdout",
     "output_type": "stream",
     "text": [
     ]
    }
   ],
   "source": [
    "from datetime import time"
   ]
  },
  {
   "cell_type": "code",
   "execution_count": 4,
   "metadata": {
    "scrolled": true
   },
   "outputs": [],
   "source": [
    "clear_output()\n",
    "# load=  widgets.IntProgress(\n",
    "#     value=0,\n",
    "#     min=0,\n",
    "#     max=3,\n",
    "#     step=1,\n",
    "#     description='Loading Data:',\n",
    "#     bar_style='info', # 'success', 'info', 'warning', 'danger' or ''\n",
    "#     orientation='horizontal'\n",
    "# )\n",
    "# ldvbox  = widgets.VBox([load])\n",
    "# loading = widgets.HBox([ldvbox])\n",
    "# display(loading)\n",
    "ES = pd.read_pickle('ES.bugssData')\n",
    "#load.value = 1\n",
    "EB = pd.read_pickle('EB.bugssData')\n",
    "#load.value = 2\n",
    "W = pd.read_pickle('W.bugssData')\n",
    "#load.value = 3"
   ]
  },
  {
   "cell_type": "code",
   "execution_count": 5,
   "metadata": {
    "scrolled": false
   },
   "outputs": [
    {
     "name": "stderr",
     "output_type": "stream",
     "text": [
      "Enabling notebook extension jupyter-js-widgets/extension...\n",
      "      - Validating: ok\n",
      "Enabling: voila\n",
      "- Writing config: c:\\users\\jones\\appdata\\local\\programs\\python\\python37-32\\etc\\jupyter\n",
      "    - Validating...\n",
      "      voila 0.2.10 ok\n"
     ]
    }
   ],
   "source": [
    "!jupyter nbextension enable --py widgetsnbextension --sys-prefix\n",
    "!jupyter serverextension enable voila --sys-prefix"
   ]
  },
  {
   "cell_type": "code",
   "execution_count": 6,
   "metadata": {},
   "outputs": [],
   "source": [
    "# clear_output()\n",
    "# StartDate = widgets.DatePicker(description='Start Date')\n",
    "# EndDate = widgets.DatePicker(description='End Date')\n",
    "# Header = widgets.HTML(value='''<h1>Dαtα Ploting<h1>''')\n",
    "# DataToInclude = widgets.SelectMultiple(\n",
    "#     options=['East Surface', 'East Bottom', 'West'],\n",
    "#     value=['East Surface'],\n",
    "#     description='Datasets',\n",
    "#     disabled=False\n",
    "# )\n",
    "# DataPoints = widgets.SelectMultiple(\n",
    "#     options=['Salinity_ppt', 'pH', 'DO_mg/L','Turb_NTU','Chl_ug/L','Temp_C'],\n",
    "#     value=['pH'],\n",
    "#     #rows=10,\n",
    "#     description='Data',\n",
    "#     disabled=False\n",
    "# )\n",
    "# Scale = widgets.Dropdown(\n",
    "#     options=[('linear', 1), ('logarithmic', 2)],\n",
    "#     value=1,\n",
    "#     description='Scale',\n",
    "# )\n",
    "# Style = widgets.Dropdown(\n",
    "#     options=[('default', 'default'), ('classic', 'classic'),\n",
    "#              ('Solarize_Light2', 'Solarize_Light2'),('_classic_test_patch','_classic_test_patch'),\n",
    "#              ('bmh', 'bmh'),('dark_background', 'dark_background'),\n",
    "#              ('fast', 'fast'),('fivethirtyeight', 'fivethirtyeight'),\n",
    "#              ('ggplot', 'ggplot'),('grayscale', 'grayscale'),\n",
    "#              ('seaborn-colorblind', 'seaborn-colorblind'),('seaborn-dark', 'seaborn-dark'),\n",
    "#              ('seaborn-dark-palette', 'seaborn-dark-palette'),('seaborn-darkgrid', 'seaborn-darkgrid'),\n",
    "#              ('seaborn-deep', 'seaborn-deep'),('seaborn-muted', 'seaborn-muted'),\n",
    "#              ('seaborn-notebook', 'seaborn-notebook'),('seaborn-paper', 'seaborn-paper'),\n",
    "#              ('seaborn-pastel', 'seaborn-pastel'),('seaborn-poster', 'seaborn-poster'),\n",
    "#              ('seaborn-talk', 'seaborn-talk'),('seaborn-white', 'seaborn-white'),\n",
    "#              ('seaborn-whitegrid', 'seaborn-whitegrid'),('seaborn-colorblind10', 'seaborn-colorblind10')],\n",
    "#     value='default',\n",
    "#     description='Style',\n",
    "# )\n",
    "# figx=widgets.IntSlider(\n",
    "#     value=10,\n",
    "#     min=5,\n",
    "#     max=40,\n",
    "#     step=1,\n",
    "#     description='x axis size:',\n",
    "#     disabled=False,\n",
    "#     continuous_update=False,\n",
    "#     orientation='horizontal',\n",
    "#     readout=True,\n",
    "#     readout_format='d'\n",
    "# )\n",
    "# figy=widgets.IntSlider(\n",
    "#     value=10,\n",
    "#     min=5,\n",
    "#     max=20,\n",
    "#     step=-1,\n",
    "#     description='Y axis Size:',\n",
    "#     disabled=False,\n",
    "#     continuous_update=False,\n",
    "#     orientation='Vertical',\n",
    "#     readout=True,\n",
    "#     readout_format='d'\n",
    "# )\n",
    "# fig = widgets.VBox([figy,figx])\n",
    "# def UpdateD():\n",
    "#     try:\n",
    "#         SD = datetime.strptime(str(StartDate.value),\"%Y-%m-%d\")\n",
    "#         ED = datetime.strptime(str(EndDate.value), \"%Y-%m-%d\")\n",
    "#         Range = ED-SD\n",
    "#         return(Range)\n",
    "#     except:\n",
    "#         pass\n",
    "# btn_plt = widgets.Button(\n",
    "#                 description='Plot',\n",
    "#                 tooltip='Plot',\n",
    "#                 style={'description_width': 'initial'}\n",
    "#             )\n",
    "\n",
    "# imgs = Image.open(\"blnk.png\")\n",
    "# wd = imgs.size[0]\n",
    "# file = open(\"blnk.png\", \"rb\")\n",
    "# img = file.read()\n",
    "# #img.show()\n",
    "# image = widgets.Image(\n",
    "#                     value=img,\n",
    "#                     format='png',\n",
    "#                     width = int(wd)\n",
    "#                 )\n",
    "\n",
    "# output = widgets.Output()\n",
    "# #ax = plt.gca()\n",
    "# def on_button_clicked(event):\n",
    "#     with output:\n",
    "#         clear_output()\n",
    "#         r = UpdateD()\n",
    "#         #print(f\".{StartDate.value}.. {r}...{DataPoints.value}\")\n",
    "#     DPlot(DataToInclude.value,DataPoints.value,Scale.value,StartDate.value,EndDate.value,figx.value,figy.value,Style.value)\n",
    "#     file = open(\"plot.png\", \"rb\")\n",
    "#     img = file.read()\n",
    "#     image = widgets.Image(\n",
    "#                     value=img,\n",
    "#                     format='png',\n",
    "#                     width=1000\n",
    "#                 )\n",
    "#     vbox_img = widgets.VBox([image])\n",
    "# #     if r == None:\n",
    "# #         print('Please input the date range')\n",
    "# #     else:\n",
    "# #         DPlot(DataToInclude.value,DataPoints.value,Scale.value,StartDate.value,EndDate.value,figx.value,figy.value)\n",
    "        \n",
    "# btn_plt.on_click(on_button_clicked)\n",
    "# vbox_result = widgets.VBox([btn_plt, output])\n",
    "# vbox_Setup = widgets.VBox([Header,fig,DataToInclude,DataPoints,Scale,StartDate,EndDate,Style,vbox_result])\n",
    "# vbox_img = widgets.VBox([image])"
   ]
  },
  {
   "cell_type": "code",
   "execution_count": 156,
   "metadata": {},
   "outputs": [],
   "source": [
    "def CleanList(LST,removeCommas,removeMore):\n",
    "    listStr = str(LST)\n",
    "    listStr = listStr.replace(\"'\",'')\n",
    "    if removeCommas==True:\n",
    "        #listStr = listStr.replace(\",,\",',')\n",
    "        listStr = listStr.replace(\",, \",', ')\n",
    "    listStr = listStr.replace('\\\\','')\n",
    "    listStr = listStr.replace('/','')\n",
    "    \n",
    "    String = listStr[1:(len(listStr)-(1+removeMore))]\n",
    "    #print(String)\n",
    "    return(String)"
   ]
  },
  {
   "cell_type": "code",
   "execution_count": 168,
   "metadata": {},
   "outputs": [],
   "source": [
    "def DPlot(Datasets,DataPoints,Scale,StartDate,EndDate,figx,figy,Style):\n",
    "    prg1 = len(Datasets)\n",
    "    prg2 = len(DataPoints)\n",
    "    prg3 = prg1*prg2\n",
    "    prg = 0\n",
    "    if StartDate == None:\n",
    "        txtStartDate = '2018-1-1'\n",
    "    else:\n",
    "        txtStartDate = startDate\n",
    "    if EndDate == None:\n",
    "        txtEndDate = '2020-12-31'\n",
    "    else:\n",
    "        txtEndDate = EndDate\n",
    "    cut1=0\n",
    "    cut2=0\n",
    "    if prg1 ==1:\n",
    "        cut1 = 1\n",
    "    if prg2 ==1:\n",
    "        cut2 = 1\n",
    "    Filename = (CleanList(Datasets,False,cut1)+' - '+CleanList(DataPoints,False,cut2)+' - from '+txtStartDate+' to '+txtEndDate)\n",
    "    extension = ('output/'+ Filename+'.png')\n",
    "    print('\"PATH/'+extension+'\"')\n",
    "    progress.max = prg3+1\n",
    "    figsize(figx,figy)\n",
    "    ax = plt.gca()\n",
    "    plt.style.use(Style)\n",
    "    if Scale == 2:\n",
    "        plt.yscale('log')\n",
    "    for ds in Datasets:\n",
    "        if ds == 'East Surface':\n",
    "            df=ES.loc[StartDate:EndDate]\n",
    "        elif ds == 'East Bottom':\n",
    "            df=EB.loc[StartDate:EndDate]\n",
    "        else:\n",
    "            df=W.loc[StartDate:EndDate]\n",
    "        for dp in DataPoints:\n",
    "            df.plot('DateTime',dp,ax=ax, label = (ds, dp))\n",
    "            prg+=1\n",
    "            progress.value = prg\n",
    "    plt.savefig(extension)\n",
    "    img = Image.open(extension)\n",
    "    img.show()\n",
    "    progress.value = progress.max\n",
    "    time.sleep(.1)\n",
    "    progress.value = 0\n"
   ]
  },
  {
   "cell_type": "code",
   "execution_count": 164,
   "metadata": {},
   "outputs": [],
   "source": [
    "clear_output()\n",
    "StartDate = widgets.DatePicker(description='Start Date')\n",
    "EndDate = widgets.DatePicker(description='End Date')\n",
    "Header = widgets.HTML(value='''<h1>Dαtα Ploting<h1>''')\n",
    "DataToInclude = widgets.SelectMultiple(\n",
    "    options=['East Surface', 'East Bottom', 'West'],\n",
    "    value=['East Surface'],\n",
    "    description='Datasets',\n",
    "    disabled=False\n",
    ")\n",
    "DataPoints = widgets.SelectMultiple(\n",
    "    options=['Salinity_ppt', 'pH', 'DO_mg/L','Turb_NTU','Chl_ug/L','Temp_C'],\n",
    "    value=['pH'],\n",
    "    #rows=10,\n",
    "    description='Data',\n",
    "    disabled=False\n",
    ")\n",
    "Scale = widgets.Dropdown(\n",
    "    options=[('linear', 1), ('logarithmic', 2)],\n",
    "    value=1,\n",
    "    description='Scale',\n",
    ")\n",
    "Style = widgets.Dropdown(\n",
    "    options=[('default', 'default'), ('classic', 'classic'),\n",
    "             ('Solarize_Light2', 'Solarize_Light2'),('_classic_test_patch','_classic_test_patch'),\n",
    "             ('bmh', 'bmh'),('dark_background', 'dark_background'),\n",
    "             ('fast', 'fast'),('fivethirtyeight', 'fivethirtyeight'),\n",
    "             ('ggplot', 'ggplot'),('grayscale', 'grayscale'),\n",
    "             ('seaborn-colorblind', 'seaborn-colorblind'),('seaborn-dark', 'seaborn-dark'),\n",
    "             ('seaborn-dark-palette', 'seaborn-dark-palette'),('seaborn-darkgrid', 'seaborn-darkgrid'),\n",
    "             ('seaborn-deep', 'seaborn-deep'),('seaborn-muted', 'seaborn-muted'),\n",
    "             ('seaborn-notebook', 'seaborn-notebook'),('seaborn-paper', 'seaborn-paper'),\n",
    "             ('seaborn-pastel', 'seaborn-pastel'),('seaborn-poster', 'seaborn-poster'),\n",
    "             ('seaborn-talk', 'seaborn-talk'),('seaborn-white', 'seaborn-white'),\n",
    "             ('seaborn-whitegrid', 'seaborn-whitegrid'),('seaborn-colorblind10', 'seaborn-colorblind10')],\n",
    "    value='default',\n",
    "    description='Style',\n",
    ")\n",
    "figx=widgets.IntSlider(\n",
    "    value=10,\n",
    "    min=5,\n",
    "    max=40,\n",
    "    step=1,\n",
    "    description='x axis size:',\n",
    "    disabled=False,\n",
    "    continuous_update=False,\n",
    "    orientation='horizontal',\n",
    "    readout=True,\n",
    "    readout_format='d'\n",
    ")\n",
    "figy=widgets.IntSlider(\n",
    "    value=10,\n",
    "    min=5,\n",
    "    max=20,\n",
    "    step=-1,\n",
    "    description='Y axis Size:',\n",
    "    disabled=False,\n",
    "    continuous_update=False,\n",
    "    orientation='Vertical',\n",
    "    readout=True,\n",
    "    readout_format='d'\n",
    ")\n",
    "fig = widgets.VBox([figy,figx])\n",
    "def UpdateD():\n",
    "    try:\n",
    "        SD = datetime.strptime(str(StartDate.value),\"%Y-%m-%d\")\n",
    "        ED = datetime.strptime(str(EndDate.value), \"%Y-%m-%d\")\n",
    "        Range = ED-SD\n",
    "        return(Range)\n",
    "    except:\n",
    "        pass\n",
    "btn_plt = widgets.Button(\n",
    "                description='Plot',\n",
    "                tooltip='Plot',\n",
    "                style={'description_width': 'initial'}\n",
    "            )\n",
    "progress =  widgets.IntProgress(\n",
    "    value=0,\n",
    "    min=0,\n",
    "    max=2,\n",
    "    step=1,\n",
    "    description='plotting:',\n",
    "    bar_style='danger', # 'success', 'info', 'warning', 'danger' or ''\n",
    "    orientation='horizontal'\n",
    ")\n",
    "\n",
    "\n",
    "output = widgets.Output()\n",
    "#ax = plt.gca()\n",
    "def on_button_clicked(event):\n",
    "    with output:\n",
    "        clear_output()\n",
    "        r = UpdateD()\n",
    "        #print(f\".{StartDate.value}.. {r}...{DataPoints.value}\")\n",
    "    DPlot(DataToInclude.value,DataPoints.value,Scale.value,StartDate.value,EndDate.value,figx.value,figy.value,Style.value)\n",
    "\n",
    "#     if r == None:\n",
    "#         print('Please input the date range')\n",
    "#     else:\n",
    "#         DPlot(DataToInclude.value,DataPoints.value,Scale.value,StartDate.value,EndDate.value,figx.value,figy.value)\n",
    "        \n",
    "btn_plt.on_click(on_button_clicked)\n",
    "vbox_result = widgets.VBox([btn_plt, output])\n",
    "vbox_Setup = widgets.VBox([Header,fig,DataToInclude,DataPoints,Scale,StartDate,EndDate,Style,progress,vbox_result])"
   ]
  },
  {
   "cell_type": "code",
   "execution_count": 165,
   "metadata": {
    "scrolled": false
   },
   "outputs": [
    {
     "data": {
      "application/vnd.jupyter.widget-view+json": {
       "model_id": "8dd60c39660e41ecb7c5e379154854c4",
       "version_major": 2,
       "version_minor": 0
      },
      "text/plain": [
       "HBox(children=(VBox(children=(HTML(value='<h1>Dαtα Ploting<h1>'), VBox(children=(IntSlider(value=10, continuou…"
      ]
     },
     "metadata": {},
     "output_type": "display_data"
    }
   ],
   "source": [
    "page = widgets.HBox([vbox_Setup])\n",
    "display(page)"
   ]
  },
  {
   "cell_type": "code",
   "execution_count": null,
   "metadata": {},
   "outputs": [],
   "source": []
  },
  {
   "cell_type": "code",
   "execution_count": null,
   "metadata": {},
   "outputs": [],
   "source": []
  }
 ],
 "metadata": {
  "kernelspec": {
   "display_name": "Python 3 (ipykernel)",
   "language": "python",
   "name": "python3"
  },
  "language_info": {
   "codemirror_mode": {
    "name": "ipython",
    "version": 3
   },
   "file_extension": ".py",
   "mimetype": "text/x-python",
   "name": "python",
   "nbconvert_exporter": "python",
   "pygments_lexer": "ipython3",
   "version": "3.7.4"
  }
 },
 "nbformat": 4,
 "nbformat_minor": 4
}
